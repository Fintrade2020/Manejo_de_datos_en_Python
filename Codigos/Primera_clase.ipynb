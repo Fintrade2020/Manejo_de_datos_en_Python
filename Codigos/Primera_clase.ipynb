{
  "nbformat": 4,
  "nbformat_minor": 0,
  "metadata": {
    "colab": {
      "name": "Primera_clase.ipynb",
      "provenance": [],
      "authorship_tag": "ABX9TyN6nCeJAwcC9A6Ofyl8g4CX",
      "include_colab_link": true
    },
    "kernelspec": {
      "name": "python3",
      "display_name": "Python 3"
    },
    "language_info": {
      "name": "python"
    }
  },
  "cells": [
    {
      "cell_type": "markdown",
      "metadata": {
        "id": "view-in-github",
        "colab_type": "text"
      },
      "source": [
        "<a href=\"https://colab.research.google.com/github/Jomapime/Manejo_de_datos_en_Python/blob/main/Primera_clase.ipynb\" target=\"_parent\"><img src=\"https://colab.research.google.com/assets/colab-badge.svg\" alt=\"Open In Colab\"/></a>"
      ]
    },
    {
      "cell_type": "markdown",
      "metadata": {
        "id": "piuhM9Ajntuz"
      },
      "source": [
        "# Tipos de datos\n"
      ]
    },
    {
      "cell_type": "code",
      "metadata": {
        "colab": {
          "base_uri": "https://localhost:8080/"
        },
        "id": "HqQhTw7YnwLj",
        "outputId": "b24c37cb-21d6-4e75-b50c-d87925506c09"
      },
      "source": [
        "print(type(5))#Entero - int\n",
        "print(type(10.5)) #decimal - float o dbl\n",
        "print(type(\"Hola mundo\")) #String\n",
        "print(type(2+3j)) #Complex\n",
        "print(type(True)) #Booleano - Logico\n"
      ],
      "execution_count": null,
      "outputs": [
        {
          "output_type": "stream",
          "name": "stdout",
          "text": [
            "<class 'int'>\n",
            "<class 'float'>\n",
            "<class 'str'>\n",
            "<class 'complex'>\n",
            "<class 'bool'>\n"
          ]
        }
      ]
    },
    {
      "cell_type": "markdown",
      "metadata": {
        "id": "ofOuTnJUpGnz"
      },
      "source": [
        "# Operaciones matemáticas básicas."
      ]
    },
    {
      "cell_type": "code",
      "metadata": {
        "colab": {
          "base_uri": "https://localhost:8080/"
        },
        "id": "Q3T45Ny9pIq6",
        "outputId": "efc07ea0-c90e-4173-8ff7-f26b7f2df312"
      },
      "source": [
        "#Suma\n",
        "print(1+2)\n",
        "#Resta\n",
        "print(10-5)\n",
        "#multiplicacion\n",
        "print(5*4)\n",
        "#potencia\n",
        "print(8**2)\n",
        "pow(8,3)\n",
        "#Division\n",
        "print(8/5)\n",
        "#Division entera\n",
        "print(25//3)"
      ],
      "execution_count": null,
      "outputs": [
        {
          "output_type": "stream",
          "name": "stdout",
          "text": [
            "3\n",
            "5\n",
            "20\n",
            "64\n",
            "1.6\n",
            "8\n"
          ]
        }
      ]
    },
    {
      "cell_type": "markdown",
      "metadata": {
        "id": "d3m0rG4fpzp2"
      },
      "source": [
        "# Estructuras de datos"
      ]
    },
    {
      "cell_type": "markdown",
      "metadata": {
        "id": "-6YdCoqHp-au"
      },
      "source": [
        "## Variables"
      ]
    },
    {
      "cell_type": "code",
      "metadata": {
        "colab": {
          "base_uri": "https://localhost:8080/"
        },
        "id": "P_m6O-myqBJJ",
        "outputId": "9e591846-1945-40eb-9cdd-227690a84603"
      },
      "source": [
        "Variable1 = 105\n",
        "Variable2 = 650\n",
        "\n",
        "Suma = Variable1+Variable2\n",
        "print(Suma)\n",
        "\n",
        "print(\"La suma de\", Variable1, \"+\", Variable2, \"=\", Suma)"
      ],
      "execution_count": null,
      "outputs": [
        {
          "output_type": "stream",
          "name": "stdout",
          "text": [
            "755\n"
          ]
        }
      ]
    },
    {
      "cell_type": "markdown",
      "metadata": {
        "id": "ab0_VGaZNRsn"
      },
      "source": [
        "# Ejercicio\n"
      ]
    },
    {
      "cell_type": "markdown",
      "metadata": {
        "id": "gbMxwSDgL4a8"
      },
      "source": [
        "\n",
        "Ejercicio: \n",
        "\n",
        "Cual es el valor presente del siguiente flujo de ingresos con factor de descuento del 12%?\n",
        "Recibirá 60.000 COP en un año, 100.000 COP en dos años y 200.000 COP en tres años.\n",
        " \n",
        "FORMULA:\n",
        "\n",
        "**$$\n",
        "VP = \\frac{VF}{(1+i)^n}\n",
        "$$**\n",
        "\n",
        "**$$\n",
        "VP = VF/(1+i)^n\n",
        "$$**\n",
        "\n",
        "Cree un objeto para cada valor presente (son 3), luego cree otro objeto que sea el resultado de la suma de los 3 valores presentes."
      ]
    },
    {
      "cell_type": "code",
      "metadata": {
        "id": "FjETuU5wscHe"
      },
      "source": [
        "VP1 = 60000/(1+0.12)**1\n",
        "VP2 = 100000/(1+0.12)**2\n",
        "VP3 = 200000/(1+0.12)**3\n"
      ],
      "execution_count": null,
      "outputs": []
    },
    {
      "cell_type": "code",
      "metadata": {
        "colab": {
          "base_uri": "https://localhost:8080/"
        },
        "id": "bkCAKt0ds8xQ",
        "outputId": "79480bab-73b9-4277-d99b-1883bd6da471"
      },
      "source": [
        "print(VP1)\n",
        "print(VP2)\n",
        "print(VP3)"
      ],
      "execution_count": null,
      "outputs": [
        {
          "output_type": "stream",
          "name": "stdout",
          "text": [
            "53571.428571428565\n",
            "79719.38775510203\n",
            "142356.04956268216\n"
          ]
        }
      ]
    },
    {
      "cell_type": "code",
      "metadata": {
        "colab": {
          "base_uri": "https://localhost:8080/"
        },
        "id": "bJYox3IJtJb2",
        "outputId": "5c3b7e50-5908-4b10-e421-8a31d5d2497d"
      },
      "source": [
        "Resultado = VP1+VP2+VP3\n",
        "print(Resultado)\n",
        "Resultado = round(Resultado,3)\n",
        "print(Resultado)"
      ],
      "execution_count": null,
      "outputs": [
        {
          "output_type": "stream",
          "name": "stdout",
          "text": [
            "275646.86588921276\n",
            "275646.866\n"
          ]
        }
      ]
    },
    {
      "cell_type": "code",
      "metadata": {
        "colab": {
          "base_uri": "https://localhost:8080/"
        },
        "id": "okyV7bdGt-jb",
        "outputId": "8149f183-4a6f-4ded-d337-9c13edc43ffb"
      },
      "source": [
        "Resultado"
      ],
      "execution_count": null,
      "outputs": [
        {
          "output_type": "execute_result",
          "data": {
            "text/plain": [
              "275646.866"
            ]
          },
          "metadata": {},
          "execution_count": 40
        }
      ]
    },
    {
      "cell_type": "markdown",
      "metadata": {
        "id": "gp0_C-ZINVYE"
      },
      "source": [
        "# Vectores"
      ]
    },
    {
      "cell_type": "markdown",
      "metadata": {
        "id": "pjkKgpgGMI_B"
      },
      "source": [
        "\n",
        "\n",
        "Secuencia u objeto unidimensional\n",
        "\n",
        "\n",
        "$ Vector1 = (1,2,3,4,5,6) $\n",
        "\n",
        "$ Vector2 = (arbol, casa, persona)$"
      ]
    },
    {
      "cell_type": "code",
      "metadata": {
        "colab": {
          "base_uri": "https://localhost:8080/"
        },
        "id": "CD0lD8t7uVnS",
        "outputId": "152eb21e-b4e7-435e-e491-15fd6d1a5024"
      },
      "source": [
        "import numpy as np\n",
        "# Para secuencias numericas\n",
        "np.arange(6)\n",
        "print(np.arange(-3,6)) #Numero de inicio, numero final (El ultimo valor no se incluye)\n",
        "\n",
        "print(np.arange(0,22,2)) #Numero de inicio, numero final, saltos\n"
      ],
      "execution_count": null,
      "outputs": [
        {
          "output_type": "stream",
          "name": "stdout",
          "text": [
            "[-3 -2 -1  0  1  2  3  4  5]\n",
            "[ 0  2  4  6  8 10 12 14 16 18 20]\n"
          ]
        }
      ]
    },
    {
      "cell_type": "code",
      "metadata": {
        "colab": {
          "base_uri": "https://localhost:8080/"
        },
        "id": "gdykSaykvR7l",
        "outputId": "96aaab57-cfa8-4dae-be5b-e3590195ea5a"
      },
      "source": [
        "Secuencia = np.linspace(5,7,15, endpoint=True) #Numero inicial, numero final, cantidad de numeros, incluir el ultimo valor.\n",
        "np.linspace(5,7,15, endpoint=False) #Numero inicial, numero final, cantidad de numeros, no incluye el ultimo valor.\n",
        "print(Secuencia)\n",
        "print(np.round(Secuencia,2))"
      ],
      "execution_count": null,
      "outputs": [
        {
          "output_type": "stream",
          "name": "stdout",
          "text": [
            "[5.         5.14285714 5.28571429 5.42857143 5.57142857 5.71428571\n",
            " 5.85714286 6.         6.14285714 6.28571429 6.42857143 6.57142857\n",
            " 6.71428571 6.85714286 7.        ]\n",
            "[5.   5.14 5.29 5.43 5.57 5.71 5.86 6.   6.14 6.29 6.43 6.57 6.71 6.86\n",
            " 7.  ]\n"
          ]
        }
      ]
    },
    {
      "cell_type": "code",
      "metadata": {
        "colab": {
          "base_uri": "https://localhost:8080/"
        },
        "id": "cF4vWeIjxBT0",
        "outputId": "dc530824-a37e-45b8-91f3-82c614a0ca96"
      },
      "source": [
        "Secuencia[0] #Mirar el primer valor.\n",
        "Secuencia[2] #Mirar el tercer valor.\n",
        "Secuencia[1] = 200 #Cambiar el segundo valor.\n",
        "Secuencia[4] = 620 #Cambiar el quinto valor.\n",
        "print(Secuencia) "
      ],
      "execution_count": null,
      "outputs": [
        {
          "output_type": "stream",
          "name": "stdout",
          "text": [
            "[  5.         200.           5.28571429   5.42857143 620.\n",
            "   5.71428571   5.85714286   6.           6.14285714   6.28571429\n",
            "   6.42857143   6.57142857   6.71428571   6.85714286   7.        ]\n"
          ]
        }
      ]
    },
    {
      "cell_type": "markdown",
      "metadata": {
        "id": "06H_y6DvNZUt"
      },
      "source": [
        "# Ejercicio 2"
      ]
    },
    {
      "cell_type": "markdown",
      "metadata": {
        "id": "VIklHOA9Nc1a"
      },
      "source": [
        "**Ejercicio:** \n",
        "1. Crear un vector que vaya desde -5 hasta 6 y que tenga 7 numeros. **linspace**\n",
        "2. Construya una secuencia numérica que inicie en 20 y termine en 50, dando saltos de 5 en 5. **arange**"
      ]
    },
    {
      "cell_type": "markdown",
      "metadata": {
        "id": "Cp796ynO0YgF"
      },
      "source": [
        "## Operaciones con vectores."
      ]
    },
    {
      "cell_type": "code",
      "metadata": {
        "id": "2zWVNEt41N8u"
      },
      "source": [
        "import numpy as np"
      ],
      "execution_count": null,
      "outputs": []
    },
    {
      "cell_type": "code",
      "metadata": {
        "colab": {
          "base_uri": "https://localhost:8080/"
        },
        "id": "KtxqOnZ70dE6",
        "outputId": "9fb671c6-5646-4bd4-fee2-eb3987c4288e"
      },
      "source": [
        "Vector1 = np.array([4,3,6,7]) #Creacion de vector.\n",
        "Vector2 = np.array([5,4,3,2])\n",
        "print(Vector1)\n",
        "print(Vector2)"
      ],
      "execution_count": null,
      "outputs": [
        {
          "output_type": "stream",
          "name": "stdout",
          "text": [
            "[4 3 6 7]\n",
            "[5 4 3 2]\n"
          ]
        }
      ]
    },
    {
      "cell_type": "code",
      "metadata": {
        "colab": {
          "base_uri": "https://localhost:8080/"
        },
        "id": "XpDObjrV03UC",
        "outputId": "3de2eee9-6088-4ad2-fc73-dd12b7170f5f"
      },
      "source": [
        "print(Vector1+Vector2) #Suma de dos vectores\n",
        "print(Vector1**Vector2) #Multiplicacion de dos vectores.\n"
      ],
      "execution_count": null,
      "outputs": [
        {
          "output_type": "stream",
          "name": "stdout",
          "text": [
            "[9 7 9 9]\n",
            "[1024   81  216   49]\n"
          ]
        }
      ]
    },
    {
      "cell_type": "code",
      "metadata": {
        "colab": {
          "base_uri": "https://localhost:8080/"
        },
        "id": "pH1qJpr61Z3g",
        "outputId": "15694083-4bc1-4141-a6b4-c9820b45f608"
      },
      "source": [
        "print(np.sum(Vector1)) #Suma elementos del vector.\n",
        "print(np.log(Vector1)) #Logaritmo natural de los elementos del vector.\n",
        "print(np.max(Vector1)) #Numero maximo del vector.\n",
        "print(np.min(Vector1)) #Numero minimo del vector."
      ],
      "execution_count": null,
      "outputs": [
        {
          "output_type": "stream",
          "name": "stdout",
          "text": [
            "20\n",
            "[1.38629436 1.09861229 1.79175947 1.94591015]\n",
            "7\n",
            "3\n"
          ]
        }
      ]
    },
    {
      "cell_type": "markdown",
      "metadata": {
        "id": "JlF-qTB9NnXr"
      },
      "source": [
        "# Matrices."
      ]
    },
    {
      "cell_type": "markdown",
      "metadata": {
        "id": "YHhAJ_BzNlAG"
      },
      "source": [
        "\n",
        "\n",
        "Una matriz es un arreglo bidimensional de números. \n",
        "\n",
        "$$\\mathbf{X} = \\left[\\begin{array}\n",
        "{rrr}\n",
        "1 & 2 & 3 \\\\\n",
        "4 & 5 & 6 \\\\\n",
        "7 & 8 & 9 \n",
        "\\end{array}\\right]$$"
      ]
    },
    {
      "cell_type": "markdown",
      "metadata": {
        "id": "-pVNazLRNvzo"
      },
      "source": [
        "# Ejercicio 3\n"
      ]
    },
    {
      "cell_type": "markdown",
      "metadata": {
        "id": "V9ktS8vDNzik"
      },
      "source": [
        "**Ejercicio:**\n",
        "1. Cree las siguientes matrices.\n",
        "\n",
        "$$\\mathbf{A} = \\left[\\begin{array}\n",
        "{rrr}\n",
        "1 & 4 \\\\\n",
        "2 & 5 \\\\\n",
        "3 & 6\n",
        "\\end{array}\\right]$$\n",
        "\n",
        "\n",
        "$$\\mathbf{B} = \\left[\\begin{array}\n",
        "{rrr}\n",
        "1 & 2 \\\\\n",
        "3 & 4 \\\\\n",
        "5 & 6\n",
        "\\end{array}\\right]$$\n",
        "\n",
        "2. Multiplique las dos matrices."
      ]
    }
  ]
}
