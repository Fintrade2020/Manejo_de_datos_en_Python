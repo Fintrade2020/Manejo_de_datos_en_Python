{
  "nbformat": 4,
  "nbformat_minor": 0,
  "metadata": {
    "colab": {
      "name": "Primera_clase.ipynb",
      "provenance": [],
      "authorship_tag": "ABX9TyPYG84Dg8+gk4YvRZSCbeN2",
      "include_colab_link": true
    },
    "kernelspec": {
      "name": "python3",
      "display_name": "Python 3"
    },
    "language_info": {
      "name": "python"
    }
  },
  "cells": [
    {
      "cell_type": "markdown",
      "metadata": {
        "id": "view-in-github",
        "colab_type": "text"
      },
      "source": [
        "<a href=\"https://colab.research.google.com/github/Jomapime/Manejo_de_datos_en_Python/blob/main/Codigos/Primera_clase.ipynb\" target=\"_parent\"><img src=\"https://colab.research.google.com/assets/colab-badge.svg\" alt=\"Open In Colab\"/></a>"
      ]
    },
    {
      "cell_type": "markdown",
      "metadata": {
        "id": "ntawU2_KZLn4"
      },
      "source": [
        "#Titulo principal"
      ]
    },
    {
      "cell_type": "markdown",
      "metadata": {
        "id": "HzQPoPkfZTXu"
      },
      "source": [
        "Esto es un ejemplo de como poner un encabezado."
      ]
    },
    {
      "cell_type": "markdown",
      "metadata": {
        "id": "iQOde6CEZPAm"
      },
      "source": [
        "#Subtitulo\n"
      ]
    },
    {
      "cell_type": "markdown",
      "metadata": {
        "id": "1LPvxrrjZR7w"
      },
      "source": [
        "Esto es un ejemplo de como poner un subtitulo. Mire el indice."
      ]
    },
    {
      "cell_type": "markdown",
      "metadata": {
        "id": "y_Pbdn8YZaG0"
      },
      "source": [
        "**Negrilla**\n",
        "\n",
        "__negrilla__\n",
        "\n",
        "_Cursiva_\n",
        "\n",
        "***Negrilla y cursiva***\n",
        "\n",
        "Listas:\n",
        "1. Primer Item\n",
        "2. Segundo Item\n",
        "3. Tercer item\n",
        "\n",
        "Viñetas:\n",
        "* Primer punto.\n",
        "* Segundo Punto.\n",
        "* Tercer Punto.\n",
        "\n",
        "Formulas matemáticas:\n",
        "\n",
        "\n",
        "$$ \n",
        "\\int_0^\\infty x^2 dx \n",
        "$$\n"
      ]
    },
    {
      "cell_type": "markdown",
      "metadata": {
        "id": "piuhM9Ajntuz"
      },
      "source": [
        "# Tipos de datos\n"
      ]
    },
    {
      "cell_type": "code",
      "metadata": {
        "colab": {
          "base_uri": "https://localhost:8080/"
        },
        "id": "HqQhTw7YnwLj",
        "outputId": "b24c37cb-21d6-4e75-b50c-d87925506c09"
      },
      "source": [
        "print(type(5))#Entero - int\n",
        "print(type(10.5)) #decimal - float o dbl\n",
        "print(type(\"Hola mundo\")) #String\n",
        "print(type(2+3j)) #Complex\n",
        "print(type(True)) #Booleano - Logico\n"
      ],
      "execution_count": null,
      "outputs": [
        {
          "output_type": "stream",
          "name": "stdout",
          "text": [
            "<class 'int'>\n",
            "<class 'float'>\n",
            "<class 'str'>\n",
            "<class 'complex'>\n",
            "<class 'bool'>\n"
          ]
        }
      ]
    },
    {
      "cell_type": "markdown",
      "metadata": {
        "id": "ofOuTnJUpGnz"
      },
      "source": [
        "# Operaciones matemáticas básicas."
      ]
    },
    {
      "cell_type": "code",
      "metadata": {
        "colab": {
          "base_uri": "https://localhost:8080/"
        },
        "id": "Q3T45Ny9pIq6",
        "outputId": "efc07ea0-c90e-4173-8ff7-f26b7f2df312"
      },
      "source": [
        "#Suma\n",
        "print(1+2)\n",
        "#Resta\n",
        "print(10-5)\n",
        "#multiplicacion\n",
        "print(5*4)\n",
        "#potencia\n",
        "print(8**2)\n",
        "pow(8,3)\n",
        "#Division\n",
        "print(8/5)\n",
        "#Division entera\n",
        "print(25//3)"
      ],
      "execution_count": null,
      "outputs": [
        {
          "output_type": "stream",
          "name": "stdout",
          "text": [
            "3\n",
            "5\n",
            "20\n",
            "64\n",
            "1.6\n",
            "8\n"
          ]
        }
      ]
    },
    {
      "cell_type": "markdown",
      "metadata": {
        "id": "d3m0rG4fpzp2"
      },
      "source": [
        "# Estructuras de datos"
      ]
    },
    {
      "cell_type": "markdown",
      "metadata": {
        "id": "-6YdCoqHp-au"
      },
      "source": [
        "## Variables"
      ]
    },
    {
      "cell_type": "code",
      "metadata": {
        "colab": {
          "base_uri": "https://localhost:8080/"
        },
        "id": "P_m6O-myqBJJ",
        "outputId": "9e591846-1945-40eb-9cdd-227690a84603"
      },
      "source": [
        "Variable1 = 105\n",
        "Variable2 = 650\n",
        "\n",
        "Suma = Variable1+Variable2\n",
        "print(Suma)\n",
        "\n",
        "print(\"La suma de\", Variable1, \"+\", Variable2, \"=\", Suma)"
      ],
      "execution_count": null,
      "outputs": [
        {
          "output_type": "stream",
          "name": "stdout",
          "text": [
            "755\n"
          ]
        }
      ]
    },
    {
      "cell_type": "markdown",
      "metadata": {
        "id": "ab0_VGaZNRsn"
      },
      "source": [
        "# Ejercicio\n"
      ]
    },
    {
      "cell_type": "markdown",
      "metadata": {
        "id": "gbMxwSDgL4a8"
      },
      "source": [
        "\n",
        "Ejercicio: \n",
        "\n",
        "Cual es el valor presente del siguiente flujo de ingresos con factor de descuento del 12%?\n",
        "Recibirá 60.000 COP en un año, 100.000 COP en dos años y 200.000 COP en tres años.\n",
        " \n",
        "FORMULA:\n",
        "\n",
        "**$$\n",
        "VP = \\frac{VF}{(1+i)^n}\n",
        "$$**\n",
        "\n",
        "**$$\n",
        "VP = VF/(1+i)^n\n",
        "$$**\n",
        "\n",
        "Cree un objeto para cada valor presente (son 3), luego cree otro objeto que sea el resultado de la suma de los 3 valores presentes."
      ]
    },
    {
      "cell_type": "code",
      "metadata": {
        "id": "FjETuU5wscHe"
      },
      "source": [
        "VP1 = 60000/(1+0.12)**1\n",
        "VP2 = 100000/(1+0.12)**2\n",
        "VP3 = 200000/(1+0.12)**3\n"
      ],
      "execution_count": null,
      "outputs": []
    },
    {
      "cell_type": "code",
      "metadata": {
        "colab": {
          "base_uri": "https://localhost:8080/"
        },
        "id": "bkCAKt0ds8xQ",
        "outputId": "79480bab-73b9-4277-d99b-1883bd6da471"
      },
      "source": [
        "print(VP1)\n",
        "print(VP2)\n",
        "print(VP3)"
      ],
      "execution_count": null,
      "outputs": [
        {
          "output_type": "stream",
          "name": "stdout",
          "text": [
            "53571.428571428565\n",
            "79719.38775510203\n",
            "142356.04956268216\n"
          ]
        }
      ]
    },
    {
      "cell_type": "code",
      "metadata": {
        "colab": {
          "base_uri": "https://localhost:8080/"
        },
        "id": "bJYox3IJtJb2",
        "outputId": "5c3b7e50-5908-4b10-e421-8a31d5d2497d"
      },
      "source": [
        "Resultado = VP1+VP2+VP3\n",
        "print(Resultado)\n",
        "Resultado = round(Resultado,3)\n",
        "print(Resultado)"
      ],
      "execution_count": null,
      "outputs": [
        {
          "output_type": "stream",
          "name": "stdout",
          "text": [
            "275646.86588921276\n",
            "275646.866\n"
          ]
        }
      ]
    },
    {
      "cell_type": "code",
      "metadata": {
        "colab": {
          "base_uri": "https://localhost:8080/"
        },
        "id": "okyV7bdGt-jb",
        "outputId": "8149f183-4a6f-4ded-d337-9c13edc43ffb"
      },
      "source": [
        "Resultado"
      ],
      "execution_count": null,
      "outputs": [
        {
          "output_type": "execute_result",
          "data": {
            "text/plain": [
              "275646.866"
            ]
          },
          "metadata": {},
          "execution_count": 40
        }
      ]
    },
    {
      "cell_type": "markdown",
      "metadata": {
        "id": "gp0_C-ZINVYE"
      },
      "source": [
        "# Vectores"
      ]
    },
    {
      "cell_type": "markdown",
      "metadata": {
        "id": "pjkKgpgGMI_B"
      },
      "source": [
        "\n",
        "\n",
        "Secuencia u objeto unidimensional\n",
        "\n",
        "\n",
        "$ Vector1 = (1,2,3,4,5,6) $\n",
        "\n",
        "$ Vector2 = (arbol, casa, persona)$"
      ]
    },
    {
      "cell_type": "code",
      "metadata": {
        "colab": {
          "base_uri": "https://localhost:8080/"
        },
        "id": "CD0lD8t7uVnS",
        "outputId": "152eb21e-b4e7-435e-e491-15fd6d1a5024"
      },
      "source": [
        "import numpy as np\n",
        "# Para secuencias numericas\n",
        "np.arange(6)\n",
        "print(np.arange(-3,6)) #Numero de inicio, numero final (El ultimo valor no se incluye)\n",
        "\n",
        "print(np.arange(0,22,2)) #Numero de inicio, numero final, saltos\n"
      ],
      "execution_count": null,
      "outputs": [
        {
          "output_type": "stream",
          "name": "stdout",
          "text": [
            "[-3 -2 -1  0  1  2  3  4  5]\n",
            "[ 0  2  4  6  8 10 12 14 16 18 20]\n"
          ]
        }
      ]
    },
    {
      "cell_type": "code",
      "metadata": {
        "colab": {
          "base_uri": "https://localhost:8080/"
        },
        "id": "gdykSaykvR7l",
        "outputId": "96aaab57-cfa8-4dae-be5b-e3590195ea5a"
      },
      "source": [
        "Secuencia = np.linspace(5,7,15, endpoint=True) #Numero inicial, numero final, cantidad de numeros, incluir el ultimo valor.\n",
        "np.linspace(5,7,15, endpoint=False) #Numero inicial, numero final, cantidad de numeros, no incluye el ultimo valor.\n",
        "print(Secuencia)\n",
        "print(np.round(Secuencia,2))"
      ],
      "execution_count": null,
      "outputs": [
        {
          "output_type": "stream",
          "name": "stdout",
          "text": [
            "[5.         5.14285714 5.28571429 5.42857143 5.57142857 5.71428571\n",
            " 5.85714286 6.         6.14285714 6.28571429 6.42857143 6.57142857\n",
            " 6.71428571 6.85714286 7.        ]\n",
            "[5.   5.14 5.29 5.43 5.57 5.71 5.86 6.   6.14 6.29 6.43 6.57 6.71 6.86\n",
            " 7.  ]\n"
          ]
        }
      ]
    },
    {
      "cell_type": "code",
      "metadata": {
        "colab": {
          "base_uri": "https://localhost:8080/"
        },
        "id": "cF4vWeIjxBT0",
        "outputId": "dc530824-a37e-45b8-91f3-82c614a0ca96"
      },
      "source": [
        "Secuencia[0] #Mirar el primer valor.\n",
        "Secuencia[2] #Mirar el tercer valor.\n",
        "Secuencia[1] = 200 #Cambiar el segundo valor.\n",
        "Secuencia[4] = 620 #Cambiar el quinto valor.\n",
        "print(Secuencia) "
      ],
      "execution_count": null,
      "outputs": [
        {
          "output_type": "stream",
          "name": "stdout",
          "text": [
            "[  5.         200.           5.28571429   5.42857143 620.\n",
            "   5.71428571   5.85714286   6.           6.14285714   6.28571429\n",
            "   6.42857143   6.57142857   6.71428571   6.85714286   7.        ]\n"
          ]
        }
      ]
    },
    {
      "cell_type": "markdown",
      "metadata": {
        "id": "FTVTdJPxzeTg"
      },
      "source": [
        "### Listas\n"
      ]
    },
    {
      "cell_type": "code",
      "metadata": {
        "colab": {
          "base_uri": "https://localhost:8080/"
        },
        "id": "mb8Hp2zVzgG2",
        "outputId": "8be32003-a0ed-4898-a668-f2bf1ae0cc2a"
      },
      "source": [
        "lista = [1,2,5,8,10]\n",
        "print(lista)\n",
        "type(lista)\n",
        "lista[1] = \"Arbol\"\n",
        "print(lista)"
      ],
      "execution_count": null,
      "outputs": [
        {
          "output_type": "stream",
          "name": "stdout",
          "text": [
            "[1, 2, 5, 8, 10]\n",
            "[1, 'Arbol', 5, 8, 10]\n"
          ]
        }
      ]
    },
    {
      "cell_type": "markdown",
      "metadata": {
        "id": "QrkTtlLF0QD9"
      },
      "source": [
        "### Tupla"
      ]
    },
    {
      "cell_type": "code",
      "metadata": {
        "colab": {
          "base_uri": "https://localhost:8080/",
          "height": 203
        },
        "id": "EHzkM7g50TRx",
        "outputId": "e2be53c8-8254-4e43-870f-c1af979c9a73"
      },
      "source": [
        "ejemplo_tupla = (4,7,20,30,50)\n",
        "type(ejemplo_tupla)\n",
        "ejemplo_tupla[-1] = 200"
      ],
      "execution_count": null,
      "outputs": [
        {
          "output_type": "error",
          "ename": "TypeError",
          "evalue": "ignored",
          "traceback": [
            "\u001b[0;31m---------------------------------------------------------------------------\u001b[0m",
            "\u001b[0;31mTypeError\u001b[0m                                 Traceback (most recent call last)",
            "\u001b[0;32m<ipython-input-9-4d4738d7c1be>\u001b[0m in \u001b[0;36m<module>\u001b[0;34m()\u001b[0m\n\u001b[1;32m      1\u001b[0m \u001b[0mejemplo_tupla\u001b[0m \u001b[0;34m=\u001b[0m \u001b[0;34m(\u001b[0m\u001b[0;36m4\u001b[0m\u001b[0;34m,\u001b[0m\u001b[0;36m7\u001b[0m\u001b[0;34m,\u001b[0m\u001b[0;36m20\u001b[0m\u001b[0;34m,\u001b[0m\u001b[0;36m30\u001b[0m\u001b[0;34m,\u001b[0m\u001b[0;36m50\u001b[0m\u001b[0;34m)\u001b[0m\u001b[0;34m\u001b[0m\u001b[0;34m\u001b[0m\u001b[0m\n\u001b[1;32m      2\u001b[0m \u001b[0mtype\u001b[0m\u001b[0;34m(\u001b[0m\u001b[0mejemplo_tupla\u001b[0m\u001b[0;34m)\u001b[0m\u001b[0;34m\u001b[0m\u001b[0;34m\u001b[0m\u001b[0m\n\u001b[0;32m----> 3\u001b[0;31m \u001b[0mejemplo_tupla\u001b[0m\u001b[0;34m[\u001b[0m\u001b[0;34m-\u001b[0m\u001b[0;36m1\u001b[0m\u001b[0;34m]\u001b[0m \u001b[0;34m=\u001b[0m \u001b[0;36m200\u001b[0m\u001b[0;34m\u001b[0m\u001b[0;34m\u001b[0m\u001b[0m\n\u001b[0m",
            "\u001b[0;31mTypeError\u001b[0m: 'tuple' object does not support item assignment"
          ]
        }
      ]
    },
    {
      "cell_type": "markdown",
      "metadata": {
        "id": "06H_y6DvNZUt"
      },
      "source": [
        "# Ejercicio 2"
      ]
    },
    {
      "cell_type": "markdown",
      "metadata": {
        "id": "VIklHOA9Nc1a"
      },
      "source": [
        "**Ejercicio:** \n",
        "1. Crear un vector que vaya desde -5 hasta 6 y que tenga 7 numeros. **linspace**\n",
        "2. Construya una secuencia numérica que inicie en 20 y termine en 50, dando saltos de 5 en 5. **arange**"
      ]
    },
    {
      "cell_type": "markdown",
      "metadata": {
        "id": "Cp796ynO0YgF"
      },
      "source": [
        "## Operaciones con vectores."
      ]
    },
    {
      "cell_type": "code",
      "metadata": {
        "id": "2zWVNEt41N8u"
      },
      "source": [
        "import numpy as np"
      ],
      "execution_count": null,
      "outputs": []
    },
    {
      "cell_type": "code",
      "metadata": {
        "colab": {
          "base_uri": "https://localhost:8080/"
        },
        "id": "KtxqOnZ70dE6",
        "outputId": "d0ca4a4e-0726-4c01-f2bf-e03b6ecf983a"
      },
      "source": [
        "Vector1 = np.array([4,3,6,7]) #Creacion de vector.\n",
        "Vector2 = np.array([5,4,3,2])\n",
        "print(Vector1)\n",
        "print(Vector2)"
      ],
      "execution_count": null,
      "outputs": [
        {
          "output_type": "stream",
          "name": "stdout",
          "text": [
            "[4 3 6 7]\n",
            "[5 4 3 2]\n"
          ]
        }
      ]
    },
    {
      "cell_type": "code",
      "metadata": {
        "colab": {
          "base_uri": "https://localhost:8080/"
        },
        "id": "XpDObjrV03UC",
        "outputId": "636e31df-59ad-4449-af55-1465fcc05282"
      },
      "source": [
        "print(Vector1+Vector2) #Suma de dos vectores\n",
        "print(Vector1**Vector2) #Multiplicacion de dos vectores.\n"
      ],
      "execution_count": null,
      "outputs": [
        {
          "output_type": "stream",
          "name": "stdout",
          "text": [
            "[9 7 9 9]\n",
            "[1024   81  216   49]\n"
          ]
        }
      ]
    },
    {
      "cell_type": "code",
      "metadata": {
        "colab": {
          "base_uri": "https://localhost:8080/"
        },
        "id": "pH1qJpr61Z3g",
        "outputId": "5d35b534-43ba-4926-97e1-ad91749cc4fe"
      },
      "source": [
        "print(np.sum(Vector1)) #Suma elementos del vector.\n",
        "print(np.log(Vector1)) #Logaritmo natural de los elementos del vector.\n",
        "print(np.max(Vector1)) #Numero maximo del vector.\n",
        "print(np.min(Vector1)) #Numero minimo del vector."
      ],
      "execution_count": null,
      "outputs": [
        {
          "output_type": "stream",
          "name": "stdout",
          "text": [
            "20\n",
            "[1.38629436 1.09861229 1.79175947 1.94591015]\n",
            "7\n",
            "3\n"
          ]
        }
      ]
    },
    {
      "cell_type": "markdown",
      "metadata": {
        "id": "JlF-qTB9NnXr"
      },
      "source": [
        "# Matrices."
      ]
    },
    {
      "cell_type": "markdown",
      "metadata": {
        "id": "YHhAJ_BzNlAG"
      },
      "source": [
        "\n",
        "\n",
        "Una matriz es un arreglo bidimensional de números. \n",
        "\n",
        "$$\\mathbf{X} = \\left[\\begin{array}\n",
        "{rrr}\n",
        "1 & 2 & 3 \\\\\n",
        "4 & 5 & 6 \\\\\n",
        "7 & 8 & 9 \n",
        "\\end{array}\\right]$$"
      ]
    },
    {
      "cell_type": "code",
      "metadata": {
        "id": "mdZTHbyF1Qd5"
      },
      "source": [
        "import numpy as np\n"
      ],
      "execution_count": null,
      "outputs": []
    },
    {
      "cell_type": "code",
      "metadata": {
        "colab": {
          "base_uri": "https://localhost:8080/"
        },
        "id": "Z4Z4G7nu1elk",
        "outputId": "51a70fa3-a6ba-4164-e092-1c1dec5dfffa"
      },
      "source": [
        "M = np.array([[1,2,3],[4,5,6],[7,8,9]])\n",
        "print(M)"
      ],
      "execution_count": null,
      "outputs": [
        {
          "output_type": "stream",
          "name": "stdout",
          "text": [
            "[[1 2 3]\n",
            " [4 5 6]\n",
            " [7 8 9]]\n"
          ]
        }
      ]
    },
    {
      "cell_type": "code",
      "metadata": {
        "colab": {
          "base_uri": "https://localhost:8080/"
        },
        "id": "eBOaYBJ417Fq",
        "outputId": "ef56160f-967a-4a79-83bb-be7e3239692a"
      },
      "source": [
        "vec = np.linspace(10,20,15)\n",
        "print(vec)\n",
        "vec.shape = [5,3]\n",
        "print(vec.shape)\n",
        "print(vec)"
      ],
      "execution_count": null,
      "outputs": [
        {
          "output_type": "stream",
          "name": "stdout",
          "text": [
            "[10.         10.71428571 11.42857143 12.14285714 12.85714286 13.57142857\n",
            " 14.28571429 15.         15.71428571 16.42857143 17.14285714 17.85714286\n",
            " 18.57142857 19.28571429 20.        ]\n",
            "(5, 3)\n",
            "[[10.         10.71428571 11.42857143]\n",
            " [12.14285714 12.85714286 13.57142857]\n",
            " [14.28571429 15.         15.71428571]\n",
            " [16.42857143 17.14285714 17.85714286]\n",
            " [18.57142857 19.28571429 20.        ]]\n"
          ]
        }
      ]
    },
    {
      "cell_type": "markdown",
      "metadata": {
        "id": "odGwpzNo26a7"
      },
      "source": [
        "### Indexación"
      ]
    },
    {
      "cell_type": "code",
      "metadata": {
        "colab": {
          "base_uri": "https://localhost:8080/"
        },
        "id": "z2TANoPG28I_",
        "outputId": "5348a9bb-a4be-4f79-aa83-3cd389a75df7"
      },
      "source": [
        "print(M)\n",
        "M[0,0] #Primera fila y primera columna.\n",
        "M[1,1] #Segunda fila y segunda columna.\n",
        "\n",
        "\n",
        "#SELECCIONAR RANGOS\n",
        "print(M)\n",
        "#Primera fila - Todas las columnas\n",
        "M[0,:]\n",
        "#Primera y segunda fila - todas las columnas\n",
        "M[:2,:]\n",
        "#Todas las filas - Primera columna\n",
        "M[:,0]"
      ],
      "execution_count": null,
      "outputs": [
        {
          "output_type": "stream",
          "name": "stdout",
          "text": [
            "[[1 2 3]\n",
            " [4 5 6]\n",
            " [7 8 9]]\n"
          ]
        },
        {
          "output_type": "execute_result",
          "data": {
            "text/plain": [
              "array([[1, 2, 3],\n",
              "       [4, 5, 6]])"
            ]
          },
          "metadata": {},
          "execution_count": 26
        }
      ]
    },
    {
      "cell_type": "code",
      "metadata": {
        "id": "hg6-VrTx7D6t"
      },
      "source": [
        "Matriz2 = np.zeros((2,3,4)) #dos matrices de 3*4\n",
        "Matriz2[0,0,1] = 5\n",
        "## Ejercicio, en la primera matriz, cambie el numero de la columna 3, fila 2 por un 8\n",
        "## En la segunda matriz, cambie el número de la fila 1, columna 4\n",
        "Matriz2[0][1][3] = 8\n",
        "Matriz2[1,0,3] = 9\n",
        "print(Matriz2)"
      ],
      "execution_count": null,
      "outputs": []
    },
    {
      "cell_type": "code",
      "metadata": {
        "colab": {
          "base_uri": "https://localhost:8080/"
        },
        "id": "2EyNUfdt3pFZ",
        "outputId": "2b89cc24-dc49-4411-9bb0-4c30c3b3df23"
      },
      "source": [
        "M.shape\n",
        "M.dtype"
      ],
      "execution_count": null,
      "outputs": [
        {
          "output_type": "execute_result",
          "data": {
            "text/plain": [
              "dtype('int64')"
            ]
          },
          "metadata": {},
          "execution_count": 29
        }
      ]
    },
    {
      "cell_type": "markdown",
      "metadata": {
        "id": "jCsIhrS44GMt"
      },
      "source": [
        "### Operación de matrices."
      ]
    },
    {
      "cell_type": "code",
      "metadata": {
        "colab": {
          "base_uri": "https://localhost:8080/"
        },
        "id": "QbcBbxVv4FfH",
        "outputId": "18ddef45-c08e-44ef-8c96-e7c47bfdbc58"
      },
      "source": [
        "Matriz1 = np.array([[8,7,2],[6,8,5]])\n",
        "Matriz2 = np.array([[6,0,1],[1,2,3]])\n",
        "print(Matriz1)\n",
        "print(Matriz2)\n",
        "\n",
        "#Suma\n",
        "Matriz1+Matriz2\n",
        "#Multiplicacion Escalada\n",
        "Matriz1*Matriz2\n",
        "Matriz1*4\n"
      ],
      "execution_count": null,
      "outputs": [
        {
          "output_type": "stream",
          "name": "stdout",
          "text": [
            "[[8 7 2]\n",
            " [6 8 5]]\n",
            "[[6 0 1]\n",
            " [1 2 3]]\n"
          ]
        },
        {
          "output_type": "execute_result",
          "data": {
            "text/plain": [
              "array([[32, 28,  8],\n",
              "       [24, 32, 20]])"
            ]
          },
          "metadata": {},
          "execution_count": 35
        }
      ]
    },
    {
      "cell_type": "code",
      "metadata": {
        "colab": {
          "base_uri": "https://localhost:8080/"
        },
        "id": "rQ8z-6SE5HME",
        "outputId": "54ec9de8-15c4-4b91-905e-4be2a815e97e"
      },
      "source": [
        "print(Matriz1)\n",
        "print(Matriz2)\n",
        "\n",
        "#Trasponer matriz\n",
        "Traspuesta = Matriz1.T\n",
        "print(Traspuesta)\n",
        "\n",
        "#Multiplicacion de matrices\n",
        "np.dot(Traspuesta,Matriz2)"
      ],
      "execution_count": null,
      "outputs": [
        {
          "output_type": "stream",
          "name": "stdout",
          "text": [
            "[[8 7 2]\n",
            " [6 8 5]]\n",
            "[[6 0 1]\n",
            " [1 2 3]]\n",
            "[[8 6]\n",
            " [7 8]\n",
            " [2 5]]\n"
          ]
        },
        {
          "output_type": "execute_result",
          "data": {
            "text/plain": [
              "array([[54, 12, 26],\n",
              "       [50, 16, 31],\n",
              "       [17, 10, 17]])"
            ]
          },
          "metadata": {},
          "execution_count": 39
        }
      ]
    },
    {
      "cell_type": "markdown",
      "metadata": {
        "id": "t5fNmVbH2Ymy"
      },
      "source": [
        "#### IMAGEN"
      ]
    },
    {
      "cell_type": "markdown",
      "metadata": {
        "id": "uN-sSQNm2Sdd"
      },
      "source": [
        "![WhatsApp Image 2021-11-04 at 11.04.53.jpeg](data:image/jpeg;base64,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)"
      ]
    },
    {
      "cell_type": "markdown",
      "metadata": {
        "id": "-pVNazLRNvzo"
      },
      "source": [
        "# Ejercicio 3\n"
      ]
    },
    {
      "cell_type": "markdown",
      "metadata": {
        "id": "V9ktS8vDNzik"
      },
      "source": [
        "**Ejercicio:**\n",
        "1. Cree las siguientes matrices.\n",
        "\n",
        "$$\\mathbf{A} = \\left[\\begin{array}\n",
        "{rrr}\n",
        "1 & 4 \\\\\n",
        "2 & 5 \\\\\n",
        "3 & 6\n",
        "\\end{array}\\right]$$\n",
        "\n",
        "\n",
        "$$\\mathbf{B} = \\left[\\begin{array}\n",
        "{rrr}\n",
        "1 & 2 \\\\\n",
        "3 & 4 \\\\\n",
        "5 & 6\n",
        "\\end{array}\\right]$$\n",
        "\n",
        "2. Multiplique las dos matrices."
      ]
    },
    {
      "cell_type": "markdown",
      "metadata": {
        "id": "y79Usy2T8J5O"
      },
      "source": [
        "## Dataframe"
      ]
    },
    {
      "cell_type": "code",
      "metadata": {
        "colab": {
          "base_uri": "https://localhost:8080/"
        },
        "id": "WvPIAuj98WGD",
        "outputId": "9fb93a2f-b509-45dd-84d8-851d597b0678"
      },
      "source": [
        "import pandas as pd\n",
        "\n",
        "Base = pd.DataFrame() #Key sensitive\n",
        "\n",
        "nombres = [\"Juan\", \"Laura\", \"Camila\", \"Daniel\"]\n",
        "edad = [20,18,None,22]\n",
        "promedio = [4.5,3.8,4.7,4.2]\n",
        "\n",
        "Base[\"Nombre\"] = nombres\n",
        "Base[\"Edad\"] = edad\n",
        "Base[\"Promedio\"] = promedio\n",
        "\n",
        "print(Base)"
      ],
      "execution_count": null,
      "outputs": [
        {
          "output_type": "stream",
          "name": "stdout",
          "text": [
            "   Nombre  Edad  Promedio\n",
            "0    Juan  20.0       4.5\n",
            "1   Laura  18.0       3.8\n",
            "2  Camila   NaN       4.7\n",
            "3  Daniel  22.0       4.2\n"
          ]
        }
      ]
    }
  ]
}