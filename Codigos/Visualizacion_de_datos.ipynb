{
  "nbformat": 4,
  "nbformat_minor": 0,
  "metadata": {
    "colab": {
      "name": "Visualizacion_de_datos.ipynb",
      "provenance": [],
      "authorship_tag": "ABX9TyOFnFAERSLyV2Or+RACTHYj",
      "include_colab_link": true
    },
    "kernelspec": {
      "name": "python3",
      "display_name": "Python 3"
    },
    "language_info": {
      "name": "python"
    }
  },
  "cells": [
    {
      "cell_type": "markdown",
      "metadata": {
        "id": "view-in-github",
        "colab_type": "text"
      },
      "source": [
        "<a href=\"https://colab.research.google.com/github/Jomapime/Manejo_de_datos_en_Python/blob/main/Codigos/Visualizacion_de_datos.ipynb\" target=\"_parent\"><img src=\"https://colab.research.google.com/assets/colab-badge.svg\" alt=\"Open In Colab\"/></a>"
      ]
    },
    {
      "cell_type": "markdown",
      "metadata": {
        "id": "1nS3DZVYm9mn"
      },
      "source": [
        "# Visualizacion de datos."
      ]
    },
    {
      "cell_type": "markdown",
      "metadata": {
        "id": "r_qlIlhtm6J4"
      },
      "source": [
        "Graficos basicos con matplotlib\n",
        "\n",
        "*   `bar` para graficos de barras verticales.\n",
        "*   `barh` graficos de barras horizontales.\n",
        "*   `hist` para histogramas.\n",
        "*   `box` para boxplot.\n",
        "*   `kde` o `density` para graficos de densidad.\n",
        "*   `area` graficos de area.\n",
        "*   `pie` diagramas de torta.\n",
        "*   `scatter` diagramas de dispersión."
      ]
    },
    {
      "cell_type": "markdown",
      "metadata": {
        "id": "ME-j-dU9np7n"
      },
      "source": [
        "## Base de datos"
      ]
    },
    {
      "cell_type": "code",
      "metadata": {
        "id": "9TxIGhMCnsLa"
      },
      "source": [
        "url= \"https://cf-courses-data.s3.us.cloud-object-storage.appdomain.cloud/IBMDeveloperSkillsNetwork-DA0101EN-SkillsNetwork/labs/Data%20files/auto.csv\"\n",
        "df = pd.read_csv(url, header = None)\n",
        "columnas = [\"symboling\",\"normalized-losses\",\"make\",\"fuel-type\",\"aspiration\", \"num-of-doors\",\"body-style\",\n",
        "         \"drive-wheels\",\"engine-location\",\"wheel-base\", \"length\",\"width\",\"height\",\"curb-weight\",\"engine-type\",\n",
        "         \"num-of-cylinders\", \"engine-size\",\"fuel-system\",\"bore\",\"stroke\",\"compression-ratio\",\"horsepower\",\n",
        "         \"peak-rpm\",\"city-mpg\",\"highway-mpg\",\"price\"]\n",
        "df.columns = columnas\n",
        "df.head()"
      ],
      "execution_count": null,
      "outputs": []
    }
  ]
}